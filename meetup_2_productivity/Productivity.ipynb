{
 "cells": [
  {
   "cell_type": "code",
   "execution_count": 2,
   "metadata": {
    "slideshow": {
     "slide_type": "skip"
    }
   },
   "outputs": [
    {
     "data": {
      "text/html": [
       "<style>\n",
       "\n",
       ".CodeMirror {\n",
       "    width: 100vw;\n",
       "}s\n",
       "\n",
       ".container {\n",
       "    width: 69% !important;\n",
       "}\n",
       "\n",
       ".rendered_html {\n",
       "  font-size:0.8em;\n",
       "}\n",
       ".rendered_html table, .rendered_html th, .rendered_html tr, .rendered_html td {\n",
       "     font-size: 100%;\n",
       "}\n",
       "\n",
       "</style>"
      ],
      "text/plain": [
       "<IPython.core.display.HTML object>"
      ]
     },
     "metadata": {},
     "output_type": "display_data"
    }
   ],
   "source": [
    "%%HTML\n",
    "<style>\n",
    "\n",
    ".CodeMirror {\n",
    "    width: 100vw;\n",
    "}s\n",
    "\n",
    ".container {\n",
    "    width: 69% !important;\n",
    "}\n",
    "\n",
    ".rendered_html {\n",
    "  font-size:0.8em;\n",
    "}\n",
    ".rendered_html table, .rendered_html th, .rendered_html tr, .rendered_html td {\n",
    "     font-size: 100%;\n",
    "}\n",
    "\n",
    "</style>"
   ]
  },
  {
   "cell_type": "markdown",
   "metadata": {
    "slideshow": {
     "slide_type": "slide"
    }
   },
   "source": [
    "# Trondheim Python Meetup\n",
    "\n",
    "Today's sponsor\n",
    "\n",
    "![webstep](images/webstep_logo.jpg)\n",
    "\n",
    "- Pizza\n",
    "- Drinks from the bar (non-alcoholic)"
   ]
  },
  {
   "cell_type": "markdown",
   "metadata": {
    "slideshow": {
     "slide_type": "slide"
    }
   },
   "source": [
    "# Previous Meetup\n",
    "\n",
    "- Home Automation and IoT\n",
    "- November 13, 2018\n",
    "- ~30 attendees\n",
    "\n",
    "<p align=\"right\">\n",
    "    <img src=\"images/tank_diag.jpg\" width=400>\n",
    "</p>"
   ]
  },
  {
   "cell_type": "markdown",
   "metadata": {
    "slideshow": {
     "slide_type": "skip"
    }
   },
   "source": [
    "<p align=\"left\">\n",
    "    <img src=\"images/homeassistant.jpeg\" width=500>\n",
    "</p>"
   ]
  },
  {
   "cell_type": "code",
   "execution_count": 3,
   "metadata": {
    "slideshow": {
     "slide_type": "subslide"
    }
   },
   "outputs": [
    {
     "data": {
      "text/html": [
       "<iframe src=https://ndcoslo.com/workshop/rapid-prototyping-for-iot/ width=900 height=550></iframe>"
      ],
      "text/plain": [
       "<IPython.core.display.HTML object>"
      ]
     },
     "execution_count": 3,
     "metadata": {},
     "output_type": "execute_result"
    }
   ],
   "source": [
    "import IPython\n",
    "url = 'https://ndcoslo.com/workshop/rapid-prototyping-for-iot/'\n",
    "iframe = '<iframe src=' + url + ' width=900 height=550></iframe>'\n",
    "IPython.display.HTML(iframe)"
   ]
  },
  {
   "cell_type": "markdown",
   "metadata": {
    "slideshow": {
     "slide_type": "skip"
    }
   },
   "source": [
    "## From circuit board design to finished product: the hobbyist’s guide to hardware manufacturing"
   ]
  },
  {
   "cell_type": "code",
   "execution_count": 28,
   "metadata": {
    "slideshow": {
     "slide_type": "subslide"
    }
   },
   "outputs": [
    {
     "data": {
      "text/html": [
       "<table><tr><td><img src='images/Hans_Elias_B_Josephsen.jpeg' width=200>Hans Elias B. Josephsen</td>\n",
       "<td><img src='images/morten.jpg' width=230>Morten Dille</td></tr></table>"
      ],
      "text/plain": [
       "<IPython.core.display.HTML object>"
      ]
     },
     "metadata": {},
     "output_type": "display_data"
    }
   ],
   "source": [
    "from IPython.display import HTML, display\n",
    "display(HTML(\"\"\"<table><tr><td><img src='images/Hans_Elias_B_Josephsen.jpeg' width=200>Hans Elias B. Josephsen</td>\n",
    "<td><img src='images/morten.jpg' width=230>Morten Dille</td></tr></table>\"\"\"))"
   ]
  },
  {
   "cell_type": "markdown",
   "metadata": {
    "slideshow": {
     "slide_type": "slide"
    }
   },
   "source": [
    "# Future meetups\n",
    "\n",
    "\n",
    "![advanced](images/advanced-python.png)\n",
    "\n",
    "_26 April_"
   ]
  },
  {
   "cell_type": "markdown",
   "metadata": {
    "slideshow": {
     "slide_type": "skip"
    }
   },
   "source": [
    "- meta programming\n",
    "- iterators/generators\n",
    "- context managers\n",
    "- asyncio"
   ]
  },
  {
   "cell_type": "markdown",
   "metadata": {
    "slideshow": {
     "slide_type": "slide"
    }
   },
   "source": [
    "# Python productivity tips + mingling event\n",
    "\n",
    "- cookiecutter\n",
    "- python-fire\n",
    "- other stuff\n",
    "\n",
    "![meetup-logo](images/python-meetup-kickoff.png)\n"
   ]
  },
  {
   "cell_type": "markdown",
   "metadata": {
    "slideshow": {
     "slide_type": "slide"
    }
   },
   "source": [
    "## Not included\n",
    "\n",
    "- Virtual environments\n",
    "- Anaconda\n",
    "- Pandas\n",
    "- ++"
   ]
  },
  {
   "cell_type": "markdown",
   "metadata": {
    "slideshow": {
     "slide_type": "subslide"
    }
   },
   "source": [
    "# Background\n",
    "\n",
    "What should a Python project include?\n",
    "\n",
    "![python-logo](images/python-logo.png)"
   ]
  },
  {
   "cell_type": "markdown",
   "metadata": {
    "slideshow": {
     "slide_type": "-"
    }
   },
   "source": [
    "- setup.py\n",
    "- testing (pytest, nosetest, tox)\n",
    "- linting (yapf, flake8, autopep8)\n",
    "- docs (sphinx, markdown, rst)\n",
    "- CLI (argparse, click)"
   ]
  },
  {
   "cell_type": "markdown",
   "metadata": {
    "slideshow": {
     "slide_type": "subslide"
    }
   },
   "source": [
    "\n",
    "<p align=\"center\">\n",
    "    <img src=\"images/cookiecutter.png\" width=500>\n",
    "</p>\n",
    "\n",
    "A command-line utility that creates projects from cookiecutters (project templates)\n",
    "\n",
    "https://github.com/audreyr/cookiecutter\n",
    "\n",
    "### Installing\n",
    "\n",
    "`pip install --user cookiecutter`\n",
    "\n",
    "or \n",
    "\n",
    "`conda install cookiecutter -c conda-forge`"
   ]
  },
  {
   "cell_type": "markdown",
   "metadata": {
    "slideshow": {
     "slide_type": "subslide"
    }
   },
   "source": [
    "## cookiecutter-pypackage\n",
    "\n",
    "Cookiecutter template for a Python package.\n",
    "\n",
    "https://github.com/audreyr/cookiecutter-pypackage\n",
    "\n",
    "\n",
    "\n",
    "- Testing setup with unittest and python setup.py test or py.test\n",
    "- Travis-CI: Ready for Travis Continuous Integration testing\n",
    "- Tox testing: Setup to easily test for Python 2.7, 3.4, 3.5, 3.6\n",
    "- Sphinx docs: Documentation ready for generation with, for example, ReadTheDocs\n",
    "- Bumpversion: Pre-configured version bumping with a single command\n",
    "- Auto-release to PyPI when you push a new tag to master (optional)\n",
    "- Command line interface using Click (optional)\n",
    "\n",
    "### Usage\n",
    "\n",
    "`cookiecutter https://github.com/audreyr/cookiecutter-pypackage.git`"
   ]
  },
  {
   "cell_type": "markdown",
   "metadata": {
    "slideshow": {
     "slide_type": "slide"
    }
   },
   "source": [
    "# Python Fire\n",
    "\n",
    "Python Fire is a library for automatically generating command line interfaces (CLIs) from absolutely any Python object.\n",
    "\n",
    "## Installation\n",
    "\n",
    "`pip install fire`\n",
    "\n",
    "or\n",
    "\n",
    "`conda install fire -c conda-forge`"
   ]
  },
  {
   "cell_type": "code",
   "execution_count": null,
   "metadata": {
    "slideshow": {
     "slide_type": "subslide"
    }
   },
   "outputs": [],
   "source": [
    "import fire\n",
    "\n",
    "class Calculator(object):\n",
    "  \"\"\"A simple calculator class.\"\"\"\n",
    "\n",
    "  def double(self, number):\n",
    "    return 2 * number\n",
    "\n",
    "if __name__ == '__main__':\n",
    "  fire.Fire(Calculator)"
   ]
  },
  {
   "cell_type": "markdown",
   "metadata": {
    "slideshow": {
     "slide_type": "fragment"
    }
   },
   "source": [
    "`python calculator.py double 10`  # 20\n",
    "\n",
    "`python calculator.py double --number=15`  # 30"
   ]
  },
  {
   "cell_type": "markdown",
   "metadata": {},
   "source": [
    "- (- and _) are interchangeable\n",
    "- mix python scripts with bash scripts"
   ]
  },
  {
   "cell_type": "markdown",
   "metadata": {
    "slideshow": {
     "slide_type": "slide"
    }
   },
   "source": [
    "## Jupyter\n",
    "\n",
    "- Presentations (RISE)\n",
    "- nbextensions\n",
    "- df.plot();\n",
    "- ?str\n",
    "- (12)\n",
    "\n",
    "## Pycharm\n",
    "\n",
    "- Hotkeys\n",
    "- Macros"
   ]
  },
  {
   "cell_type": "markdown",
   "metadata": {
    "slideshow": {
     "slide_type": "skip"
    }
   },
   "source": [
    "# pre-commit\n",
    "\n",
    "https://pre-commit.com/"
   ]
  },
  {
   "cell_type": "code",
   "execution_count": 3,
   "metadata": {
    "slideshow": {
     "slide_type": "subslide"
    }
   },
   "outputs": [
    {
     "data": {
      "text/plain": [
       "<matplotlib.axes._subplots.AxesSubplot at 0x7fa8866cd390>"
      ]
     },
     "execution_count": 3,
     "metadata": {},
     "output_type": "execute_result"
    },
    {
     "data": {
      "image/png": "[encoded data removed]",
      "text/plain": [
       "<Figure size 432x288 with 1 Axes>"
      ]
     },
     "metadata": {},
     "output_type": "display_data"
    }
   ],
   "source": [
    "%matplotlib inline\n",
    "import pandas as pd\n",
    "\n",
    "df = pd.DataFrame({'a': [1,2,3]})\n",
    "df.plot()"
   ]
  },
  {
   "cell_type": "markdown",
   "metadata": {
    "slideshow": {
     "slide_type": "slide"
    }
   },
   "source": [
    "# Mingling!\n",
    "\n",
    "- What's your favorite productivity hack\n",
    "- What's your favorite python package?\n",
    "- Can I buy you a beer?"
   ]
  }
 ],
 "metadata": {
  "celltoolbar": "Slideshow",
  "kernelspec": {
   "display_name": "Python 3",
   "language": "python",
   "name": "python3"
  },
  "language_info": {
   "codemirror_mode": {
    "name": "ipython",
    "version": 3
   },
   "file_extension": ".py",
   "mimetype": "text/x-python",
   "name": "python",
   "nbconvert_exporter": "python",
   "pygments_lexer": "ipython3",
   "version": "3.6.5"
  }
 },
 "nbformat": 4,
 "nbformat_minor": 2
}
